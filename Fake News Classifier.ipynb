{
 "cells": [
  {
   "cell_type": "markdown",
   "metadata": {},
   "source": [
    "## Overview\n",
    "Develop a machine learning program to identify when an article might be fake news"
   ]
  },
  {
   "cell_type": "markdown",
   "metadata": {},
   "source": [
    "## Load Libraries\n",
    "Import the necessary libraries"
   ]
  },
  {
   "cell_type": "code",
   "execution_count": 55,
   "metadata": {},
   "outputs": [],
   "source": [
    "import pandas as pd\n",
    "import numpy as np\n",
    "from sklearn.model_selection import train_test_split\n",
    "from sklearn.preprocessing import LabelEncoder\n",
    "from sklearn.pipeline import Pipeline\n",
    "from sklearn.compose import ColumnTransformer\n",
    "from sklearn.ensemble import RandomForestRegressor\n",
    "from sklearn.metrics import mean_absolute_error\n",
    "from sklearn import metrics\n",
    "from sklearn.metrics import accuracy_score\n",
    "from sklearn.model_selection import cross_val_score\n",
    "import matplotlib.pyplot as plt\n",
    "%matplotlib inline"
   ]
  },
  {
   "cell_type": "markdown",
   "metadata": {},
   "source": [
    "## Load Data\n",
    "Load the data into Training and Test variables"
   ]
  },
  {
   "cell_type": "code",
   "execution_count": 56,
   "metadata": {
    "scrolled": true
   },
   "outputs": [],
   "source": [
    "#Read training data\n",
    "X = pd.read_csv(\"Fake_News_Classifer/train.csv\")\n",
    "\n",
    "#Test data\n",
    "X_test = pd.read_csv(\"Fake_News_Classifer/test.csv\")\n"
   ]
  },
  {
   "cell_type": "markdown",
   "metadata": {},
   "source": [
    "# Clean Dataset\n",
    "The Label column on the training set determines if an article is reliable or not.\n",
    "\n",
    "**1 = unreliable 0 = reliable**\n",
    "\n",
    "Remove rows with missing target value(label column) and separate target value from predictors."
   ]
  },
  {
   "cell_type": "code",
   "execution_count": 57,
   "metadata": {},
   "outputs": [],
   "source": [
    "#Check for NA values in label column\n",
    "X = X.fillna(\" \")\n",
    "#Separate target from predictors\n",
    "y = X.label\n",
    "X.drop([\"label\"], axis = 1, inplace = True)"
   ]
  },
  {
   "cell_type": "markdown",
   "metadata": {},
   "source": [
    "## Create Validation Set\n",
    "Split the validation and training set to account for overfitting and underfitting."
   ]
  },
  {
   "cell_type": "code",
   "execution_count": 58,
   "metadata": {},
   "outputs": [],
   "source": [
    "#Split training data\n",
    "X_train, X_valid, y_train, y_valid = train_test_split(X, y, random_state = 0)"
   ]
  },
  {
   "cell_type": "markdown",
   "metadata": {},
   "source": [
    "## Establish Score Function\n",
    "Create function to score the machine learning model based on mean square absolute error and accuracy. The score is based on a random forest regressor."
   ]
  },
  {
   "cell_type": "code",
   "execution_count": 59,
   "metadata": {},
   "outputs": [],
   "source": [
    "def get_score(X_train, X_valid, y_train, y_valid, n_estimators, n_metric):\n",
    "    model = RandomForestRegressor(n_estimators=n_estimators, random_state=0)\n",
    "    model.fit(X_train, y_train)\n",
    "    preds = model.predict(X_valid)\n",
    "    return n_metric(y_valid, preds.round())"
   ]
  },
  {
   "cell_type": "markdown",
   "metadata": {},
   "source": [
    "## Check Cardinality and Label Encoding\n",
    "Check for the number of unique values in each column to determine how to manipulate categorical variables. Then use a label encoder to recieve numerical values to utilize in the machine learning algorithm."
   ]
  },
  {
   "cell_type": "code",
   "execution_count": 60,
   "metadata": {},
   "outputs": [
    {
     "name": "stdout",
     "output_type": "stream",
     "text": [
      "14923\n",
      "3502\n",
      "15338\n"
     ]
    }
   ],
   "source": [
    "#receive column names that are categorical\n",
    "cardinality_check = [col_name for col_name in X_train.columns if\n",
    "                        X_train[col_name].dtype == \"object\"]\n",
    "\n",
    "#check for unique values\n",
    "for i in cardinality_check:\n",
    "    print(X_train[cardinality_check][i].nunique())\n",
    "\n",
    "select_cols = cardinality_check\n",
    "#print(select_cols)\n",
    "\n",
    "#Prepare for Label Encoding\n",
    "#Do not disrupt original data\n",
    "label_X_train = X_train.copy()\n",
    "label_X_valid = X_valid.copy()\n",
    "\n",
    "#apply label encoder\n",
    "label_encoder = LabelEncoder()\n",
    "for col in select_cols:\n",
    "    label_X_train[col] = label_encoder.fit_transform(X_train[col])\n",
    "    label_X_valid[col] = label_encoder.fit_transform(X_valid[col])"
   ]
  },
  {
   "cell_type": "markdown",
   "metadata": {},
   "source": [
    "## Mean Absolute Error\n",
    "Calculate the mean absolute error. Visualize the best result based on the amount of decision trees estimators. Estimators vary by increments of 50."
   ]
  },
  {
   "cell_type": "code",
   "execution_count": 61,
   "metadata": {},
   "outputs": [
    {
     "name": "stdout",
     "output_type": "stream",
     "text": [
      "mean absolute error:  {50: 0.42480769230769233, 100: 0.4232692307692308, 150: 0.42288461538461536, 200: 0.4251923076923077, 250: 0.4269230769230769, 300: 0.4275, 350: 0.4280769230769231, 400: 0.42923076923076925}\n"
     ]
    }
   ],
   "source": [
    "results_mae = {}\n",
    "for i in range(1, 9):\n",
    "    results_mae[50*i] = get_score(label_X_train, label_X_valid, y_train, y_valid, 50*i, mean_absolute_error)\n",
    "print(\"mean absolute error: \", results_mae)"
   ]
  },
  {
   "cell_type": "code",
   "execution_count": 62,
   "metadata": {},
   "outputs": [
    {
     "data": {
      "image/png": "[encoded data removed]",
      "text/plain": [
       "<Figure size 432x288 with 1 Axes>"
      ]
     },
     "metadata": {
      "needs_background": "light"
     },
     "output_type": "display_data"
    }
   ],
   "source": [
    "plt.plot(list(results_mae.keys()), list(results_mae.values()))\n",
    "plt.xlabel('Estimators')\n",
    "plt.ylabel('MAE')\n",
    "plt.title('Mean Absolute Error')\n",
    "plt.show()"
   ]
  },
  {
   "cell_type": "code",
   "execution_count": 63,
   "metadata": {},
   "outputs": [
    {
     "name": "stdout",
     "output_type": "stream",
     "text": [
      "Best number of estimators:  150\n",
      "Mean Absolute Error:  0.42288461538461536\n"
     ]
    }
   ],
   "source": [
    "print(\"Best number of estimators: \", min(results_mae, key = results_mae.get))\n",
    "print(\"Mean Absolute Error: \", results_mae[min(results_mae, key = results_mae.get)])"
   ]
  },
  {
   "cell_type": "markdown",
   "metadata": {},
   "source": [
    "## Accuracy Score\n",
    "Calculate the accuracy of the model. Estimators vary by increments of 50."
   ]
  },
  {
   "cell_type": "code",
   "execution_count": 51,
   "metadata": {},
   "outputs": [
    {
     "name": "stdout",
     "output_type": "stream",
     "text": [
      "accuracy:  {50: 0.5751923076923077, 100: 0.5767307692307693, 150: 0.5771153846153846, 200: 0.5748076923076924, 250: 0.573076923076923, 300: 0.5725, 350: 0.571923076923077, 400: 0.5707692307692308}\n"
     ]
    }
   ],
   "source": [
    "results_accuracy = {}\n",
    "for i in range(1, 9):\n",
    "    results_accuracy[50*i] = get_score(label_X_train, label_X_valid, y_train, y_valid, 50*i, metrics.accuracy_score)\n",
    "print(\"accuracy: \", results_accuracy)"
   ]
  },
  {
   "cell_type": "code",
   "execution_count": 52,
   "metadata": {},
   "outputs": [
    {
     "data": {
      "image/png": "[encoded data removed]",
      "text/plain": [
       "<Figure size 432x288 with 1 Axes>"
      ]
     },
     "metadata": {
      "needs_background": "light"
     },
     "output_type": "display_data"
    }
   ],
   "source": [
    "plt.plot(list(results_accuracy.keys()), list(results_accuracy.values()))\n",
    "plt.xlabel('Estimators')\n",
    "plt.ylabel('Accuracy')\n",
    "plt.title('Model Accuracy')\n",
    "plt.show()"
   ]
  },
  {
   "cell_type": "code",
   "execution_count": 53,
   "metadata": {},
   "outputs": [
    {
     "name": "stdout",
     "output_type": "stream",
     "text": [
      "Best number of estimators:  150\n",
      "Accuracy:  0.5771153846153846\n"
     ]
    }
   ],
   "source": [
    "print(\"Best number of estimators: \", max(results_accuracy, key = results_accuracy.get))\n",
    "print(\"Accuracy: \", results_accuracy[max(results_accuracy, key = results_accuracy.get)])"
   ]
  },
  {
   "cell_type": "markdown",
   "metadata": {},
   "source": [
    "## Classification Report\n",
    "Return a summary of model accuracy using random forest classification."
   ]
  },
  {
   "cell_type": "code",
   "execution_count": 64,
   "metadata": {},
   "outputs": [
    {
     "name": "stdout",
     "output_type": "stream",
     "text": [
      "              precision    recall  f1-score   support\n",
      "\n",
      "           0       0.58      0.54      0.56      2564\n",
      "           1       0.58      0.61      0.59      2636\n",
      "\n",
      "    accuracy                           0.58      5200\n",
      "   macro avg       0.58      0.58      0.58      5200\n",
      "weighted avg       0.58      0.58      0.58      5200\n",
      "\n"
     ]
    }
   ],
   "source": [
    "results_report = get_score(label_X_train, label_X_valid, y_train, y_valid, 150, metrics.classification_report)\n",
    "print(results_report)"
   ]
  },
  {
   "cell_type": "markdown",
   "metadata": {},
   "source": [
    "## Cross Validation Test\n",
    "Get the Cross Validation Score of the model using a different number of folds each time to break up the data. Use 150 estimators because the graphs above determined the number returned the most accurate results."
   ]
  },
  {
   "cell_type": "code",
   "execution_count": 65,
   "metadata": {},
   "outputs": [],
   "source": [
    "def score_cross_val(n_folds):\n",
    "    model = RandomForestRegressor(n_estimators=150, random_state=0)\n",
    "    cross = -1 * cross_val_score(model, label_X_train, y_train.round(), cv=n_folds, scoring=\"neg_mean_absolute_error\").mean()\n",
    "    return cross\n",
    "\n",
    "#print(cross)"
   ]
  },
  {
   "cell_type": "code",
   "execution_count": 66,
   "metadata": {},
   "outputs": [
    {
     "name": "stdout",
     "output_type": "stream",
     "text": [
      "Cross Validation Score:  {2: 0.17609957264957266, 3: 0.15979572649572651, 4: 0.15168034188034188, 5: 0.14857307692307692, 6: 0.14599017094017094, 7: 0.1446814289384804, 8: 0.14415042735042735}\n"
     ]
    }
   ],
   "source": [
    "results_cross = {}\n",
    "for i in range(2, 9):\n",
    "    results_cross[i] = score_cross_val(i)\n",
    "print(\"Cross Validation Score: \", results_cross)"
   ]
  },
  {
   "cell_type": "code",
   "execution_count": 67,
   "metadata": {},
   "outputs": [
    {
     "data": {
      "image/png": "[encoded data removed]",
      "text/plain": [
       "<Figure size 432x288 with 1 Axes>"
      ]
     },
     "metadata": {
      "needs_background": "light"
     },
     "output_type": "display_data"
    }
   ],
   "source": [
    "plt.plot(list(results_cross.keys()), list(results_cross.values()))\n",
    "plt.xlabel('Folds')\n",
    "plt.ylabel('Average Cross Validation Score')\n",
    "plt.title('Cross Validation')\n",
    "plt.show()"
   ]
  },
  {
   "cell_type": "code",
   "execution_count": 70,
   "metadata": {},
   "outputs": [
    {
     "name": "stdout",
     "output_type": "stream",
     "text": [
      "Best number of folds:  8\n",
      "Mean Absolute eror:  0.14415042735042735\n"
     ]
    }
   ],
   "source": [
    "print(\"Best number of folds: \", min(results_cross, key = results_cross.get))\n",
    "print(\"Mean Absolute eror: \", results_cross[min(results_cross, key = results_cross.get)])"
   ]
  },
  {
   "cell_type": "markdown",
   "metadata": {},
   "source": [
    "## Test Data\n",
    "Apply Machine Learning Model to test data"
   ]
  },
  {
   "cell_type": "code",
   "execution_count": 71,
   "metadata": {},
   "outputs": [],
   "source": [
    "#preprocess test data\n",
    "X_test = X_test.fillna(\" \")\n",
    "label_X_test = X_test.copy()\n",
    "for col in select_cols:\n",
    "    label_X_test[col] = label_encoder.fit_transform(X_test[col])\n",
    "    \n",
    "final_X_test = pd.DataFrame(label_X_test)\n",
    "\n",
    "#get test predictions\n",
    "model = RandomForestRegressor(n_estimators = 150, random_state = 1)\n",
    "model.fit(label_X_train, y_train)\n",
    "preds_test = model.predict(final_X_test)"
   ]
  },
  {
   "cell_type": "code",
   "execution_count": 72,
   "metadata": {},
   "outputs": [
    {
     "name": "stdout",
     "output_type": "stream",
     "text": [
      "        Id  label\n",
      "0        0    0.0\n",
      "1        1    1.0\n",
      "2        2    1.0\n",
      "3        3    0.0\n",
      "4        4    1.0\n",
      "...    ...    ...\n",
      "5195  5195    1.0\n",
      "5196  5196    1.0\n",
      "5197  5197    0.0\n",
      "5198  5198    1.0\n",
      "5199  5199    1.0\n",
      "\n",
      "[5200 rows x 2 columns]\n"
     ]
    }
   ],
   "source": [
    "#output predictions to dataframe\n",
    "output = pd.DataFrame({'Id': X_test.index,\n",
    "                       'label': preds_test.round()})\n",
    "print(output)\n",
    "output.to_csv('submission.csv', index=False)"
   ]
  }
 ],
 "metadata": {
  "kernelspec": {
   "display_name": "Python 3",
   "language": "python",
   "name": "python3"
  }
 },
 "nbformat": 4,
 "nbformat_minor": 4
}
