{
 "cells": [
  {
   "cell_type": "markdown",
   "metadata": {},
   "source": [
    "## Overview\n",
    "Develop a machine learning program to identify when an article might be fake news"
   ]
  },
  {
   "cell_type": "markdown",
   "metadata": {},
   "source": [
    "## Load Libraries\n",
    "Import the necessary libraries"
   ]
  },
  {
   "cell_type": "code",
   "execution_count": 1,
   "metadata": {},
   "outputs": [],
   "source": [
    "import pandas as pd\n",
    "import numpy as np\n",
    "from sklearn.model_selection import train_test_split\n",
    "from sklearn.preprocessing import LabelEncoder\n",
    "from sklearn.metrics import mean_absolute_error, confusion_matrix\n",
    "from sklearn import metrics\n",
    "from sklearn.metrics import accuracy_score\n",
    "from sklearn.model_selection import cross_val_score\n",
    "from sklearn.ensemble import RandomForestClassifier\n",
    "import matplotlib.pyplot as plt\n",
    "%matplotlib inline"
   ]
  },
  {
   "cell_type": "markdown",
   "metadata": {},
   "source": [
    "## Load Data\n",
    "Load the data into Training and Test variables"
   ]
  },
  {
   "cell_type": "code",
   "execution_count": 2,
   "metadata": {
    "scrolled": true
   },
   "outputs": [],
   "source": [
    "#Read training data\n",
    "X = pd.read_csv(\"Fake_News_Classifer/train.csv\")\n",
    "\n",
    "#Test data\n",
    "X_test = pd.read_csv(\"Fake_News_Classifer/test.csv\")\n"
   ]
  },
  {
   "cell_type": "markdown",
   "metadata": {},
   "source": [
    "# Clean Dataset\n",
    "The Label column on the training set determines if an article is reliable or not.\n",
    "\n",
    "**1 = unreliable 0 = reliable**\n",
    "\n",
    "Remove rows with missing target value(label column) and separate target value from predictors."
   ]
  },
  {
   "cell_type": "code",
   "execution_count": 3,
   "metadata": {},
   "outputs": [],
   "source": [
    "#Check for NA values in label column\n",
    "X = X.fillna(\" \")\n",
    "#Separate target from predictors\n",
    "y = X.label\n",
    "X.drop([\"label\"], axis = 1, inplace = True)"
   ]
  },
  {
   "cell_type": "markdown",
   "metadata": {},
   "source": [
    "## Create Validation Set\n",
    "Split the validation and training set to account for overfitting and underfitting."
   ]
  },
  {
   "cell_type": "code",
   "execution_count": 4,
   "metadata": {},
   "outputs": [],
   "source": [
    "#Split training data\n",
    "X_train, X_valid, y_train, y_valid = train_test_split(X, y, random_state = 0)"
   ]
  },
  {
   "cell_type": "markdown",
   "metadata": {},
   "source": [
    "## Establish Score Function\n",
    "Create function to score the machine learning model based on mean square absolute error and accuracy. The score is based on a random forest regressor."
   ]
  },
  {
   "cell_type": "code",
   "execution_count": 5,
   "metadata": {},
   "outputs": [],
   "source": [
    "def get_score(X_train, X_valid, y_train, y_valid, n_estimators, n_metric):\n",
    "    model = RandomForestClassifier(n_estimators=n_estimators, random_state=0)\n",
    "    model.fit(X_train, y_train)\n",
    "    preds = model.predict(X_valid)\n",
    "    return n_metric(y_valid, preds.round())"
   ]
  },
  {
   "cell_type": "markdown",
   "metadata": {},
   "source": [
    "## Check Cardinality and Label Encoding\n",
    "Check for the number of unique values in each column to determine how to manipulate categorical variables. Then use a label encoder to recieve numerical values to utilize in the machine learning algorithm."
   ]
  },
  {
   "cell_type": "code",
   "execution_count": 6,
   "metadata": {},
   "outputs": [
    {
     "name": "stdout",
     "output_type": "stream",
     "text": [
      "14923\n",
      "3502\n",
      "15338\n"
     ]
    }
   ],
   "source": [
    "#receive column names that are categorical\n",
    "cardinality_check = [col_name for col_name in X_train.columns if\n",
    "                        X_train[col_name].dtype == \"object\"]\n",
    "\n",
    "#check for unique values\n",
    "for i in cardinality_check:\n",
    "    print(X_train[cardinality_check][i].nunique())\n",
    "\n",
    "select_cols = cardinality_check\n",
    "#print(select_cols)\n",
    "\n",
    "#Prepare for Label Encoding\n",
    "#Do not disrupt original data\n",
    "label_X_train = X_train.copy()\n",
    "label_X_valid = X_valid.copy()\n",
    "\n",
    "#apply label encoder\n",
    "label_encoder = LabelEncoder()\n",
    "for col in select_cols:\n",
    "    label_X_train[col] = label_encoder.fit_transform(X_train[col])\n",
    "    label_X_valid[col] = label_encoder.fit_transform(X_valid[col])"
   ]
  },
  {
   "cell_type": "markdown",
   "metadata": {},
   "source": [
    "## Accuracy Score\n",
    "Calculate the accuracy of the model. Estimators vary by increments of 50."
   ]
  },
  {
   "cell_type": "code",
   "execution_count": 7,
   "metadata": {},
   "outputs": [
    {
     "name": "stdout",
     "output_type": "stream",
     "text": [
      "accuracy:  {50: 0.5836538461538462, 100: 0.5809615384615384, 150: 0.58, 200: 0.5817307692307693, 250: 0.5813461538461538, 300: 0.5809615384615384, 350: 0.5811538461538461, 400: 0.5798076923076924}\n"
     ]
    }
   ],
   "source": [
    "results_accuracy = {}\n",
    "for i in range(1, 9):\n",
    "    results_accuracy[50*i] = get_score(label_X_train, label_X_valid, y_train, y_valid, 50*i, metrics.accuracy_score)\n",
    "print(\"accuracy: \", results_accuracy)"
   ]
  },
  {
   "cell_type": "code",
   "execution_count": 8,
   "metadata": {},
   "outputs": [
    {
     "data": {
      "image/png": "[encoded data removed]",
      "text/plain": [
       "<Figure size 432x288 with 1 Axes>"
      ]
     },
     "metadata": {
      "needs_background": "light"
     },
     "output_type": "display_data"
    }
   ],
   "source": [
    "plt.plot(list(results_accuracy.keys()), list(results_accuracy.values()))\n",
    "plt.xlabel('Estimators')\n",
    "plt.ylabel('Accuracy')\n",
    "plt.title('Model Accuracy')\n",
    "plt.show()"
   ]
  },
  {
   "cell_type": "code",
   "execution_count": 9,
   "metadata": {},
   "outputs": [
    {
     "name": "stdout",
     "output_type": "stream",
     "text": [
      "Best number of estimators:  50\n",
      "Accuracy:  0.5836538461538462\n"
     ]
    }
   ],
   "source": [
    "print(\"Best number of estimators: \", max(results_accuracy, key = results_accuracy.get))\n",
    "print(\"Accuracy: \", results_accuracy[max(results_accuracy, key = results_accuracy.get)])"
   ]
  },
  {
   "cell_type": "markdown",
   "metadata": {},
   "source": [
    "## Confusion Matrix\n",
    "Calculate the Confusion Matrix. Use the most accurate number of estimators (150)."
   ]
  },
  {
   "cell_type": "code",
   "execution_count": 10,
   "metadata": {},
   "outputs": [
    {
     "name": "stdout",
     "output_type": "stream",
     "text": [
      "Confusion Matrix\n",
      "[[1391 1173]\n",
      " [1011 1625]]\n"
     ]
    }
   ],
   "source": [
    "results_matrix = {}\n",
    "\n",
    "results_matrix = get_score(label_X_train, label_X_valid, y_train, y_valid, 150, confusion_matrix)\n",
    "print(\"Confusion Matrix\")\n",
    "print(results_matrix)"
   ]
  },
  {
   "cell_type": "markdown",
   "metadata": {},
   "source": [
    "## Classification Report\n",
    "Return a summary of model accuracy using random forest classification."
   ]
  },
  {
   "cell_type": "code",
   "execution_count": 11,
   "metadata": {},
   "outputs": [
    {
     "name": "stdout",
     "output_type": "stream",
     "text": [
      "              precision    recall  f1-score   support\n",
      "\n",
      "           0       0.58      0.54      0.56      2564\n",
      "           1       0.58      0.62      0.60      2636\n",
      "\n",
      "    accuracy                           0.58      5200\n",
      "   macro avg       0.58      0.58      0.58      5200\n",
      "weighted avg       0.58      0.58      0.58      5200\n",
      "\n"
     ]
    }
   ],
   "source": [
    "results_report = get_score(label_X_train, label_X_valid, y_train, y_valid, 150, metrics.classification_report)\n",
    "print(results_report)"
   ]
  },
  {
   "cell_type": "markdown",
   "metadata": {},
   "source": [
    "## Cross Validation Test\n",
    "Get the Cross Validation Score of the model using a different number of folds each time to break up the data. Use 150 estimators because the graphs above determined the number returned the most accurate results."
   ]
  },
  {
   "cell_type": "code",
   "execution_count": 12,
   "metadata": {},
   "outputs": [],
   "source": [
    "def score_cross_val(n_folds):\n",
    "    model = RandomForestClassifier(n_estimators=150, random_state=0)\n",
    "    cross = cross_val_score(model, label_X_train, y_train.round(), cv=n_folds, scoring=\"accuracy\").mean()\n",
    "    return cross\n",
    "\n",
    "#print(cross)"
   ]
  },
  {
   "cell_type": "code",
   "execution_count": 13,
   "metadata": {},
   "outputs": [
    {
     "name": "stdout",
     "output_type": "stream",
     "text": [
      "Cross Validation Score:  {2: 0.88314159078142, 3: 0.894038631429228, 4: 0.8983981720739203, 5: 0.8992959523865196, 6: 0.9021804684040292, 7: 0.9024367638180338, 8: 0.9038469032689642}\n"
     ]
    }
   ],
   "source": [
    "results_cross = {}\n",
    "for i in range(2, 9):\n",
    "    results_cross[i] = score_cross_val(i)\n",
    "print(\"Cross Validation Score: \", results_cross)"
   ]
  },
  {
   "cell_type": "code",
   "execution_count": 14,
   "metadata": {},
   "outputs": [
    {
     "data": {
      "image/png": "[encoded data removed]",
      "text/plain": [
       "<Figure size 432x288 with 1 Axes>"
      ]
     },
     "metadata": {
      "needs_background": "light"
     },
     "output_type": "display_data"
    }
   ],
   "source": [
    "plt.plot(list(results_cross.keys()), list(results_cross.values()))\n",
    "plt.xlabel('Folds')\n",
    "plt.ylabel('Average Cross Validation Score')\n",
    "plt.title('Cross Validation')\n",
    "plt.show()"
   ]
  },
  {
   "cell_type": "code",
   "execution_count": 15,
   "metadata": {},
   "outputs": [
    {
     "name": "stdout",
     "output_type": "stream",
     "text": [
      "Best number of folds:  8\n",
      "Mean Absolute eror:  0.9038469032689642\n"
     ]
    }
   ],
   "source": [
    "print(\"Best number of folds: \", max(results_cross, key = results_cross.get))\n",
    "print(\"Mean Absolute eror: \", results_cross[max(results_cross, key = results_cross.get)])"
   ]
  },
  {
   "cell_type": "markdown",
   "metadata": {},
   "source": [
    "## Test Data\n",
    "Apply Machine Learning Model to test data"
   ]
  },
  {
   "cell_type": "code",
   "execution_count": 16,
   "metadata": {},
   "outputs": [],
   "source": [
    "#preprocess test data\n",
    "X_test = X_test.fillna(\" \")\n",
    "label_X_test = X_test.copy()\n",
    "for col in select_cols:\n",
    "    label_X_test[col] = label_encoder.fit_transform(X_test[col])\n",
    "    \n",
    "final_X_test = pd.DataFrame(label_X_test)\n",
    "\n",
    "#get test predictions\n",
    "model = RandomForestClassifier(n_estimators = 150, random_state = 1)\n",
    "model.fit(label_X_train, y_train)\n",
    "preds_test = model.predict(final_X_test)"
   ]
  },
  {
   "cell_type": "code",
   "execution_count": 17,
   "metadata": {},
   "outputs": [
    {
     "name": "stdout",
     "output_type": "stream",
     "text": [
      "        Id  label\n",
      "0        0      1\n",
      "1        1      1\n",
      "2        2      1\n",
      "3        3      0\n",
      "4        4      0\n",
      "...    ...    ...\n",
      "5195  5195      1\n",
      "5196  5196      0\n",
      "5197  5197      0\n",
      "5198  5198      1\n",
      "5199  5199      1\n",
      "\n",
      "[5200 rows x 2 columns]\n"
     ]
    }
   ],
   "source": [
    "#output predictions to dataframe\n",
    "output = pd.DataFrame({'Id': X_test.index,\n",
    "                       'label': preds_test.round()})\n",
    "print(output)\n",
    "output.to_csv('submission.csv', index=False)"
   ]
  },
  {
   "cell_type": "code",
   "execution_count": 28,
   "metadata": {},
   "outputs": [],
   "source": [
    "def get_score_test(X_valid, y_train, y_valid, n_estimators, n_metric):\n",
    "    model = RandomForestClassifier(n_estimators = n_estimators, random_state = 1)\n",
    "    model.fit(label_X_train, y_train)\n",
    "    preds_test = model.predict(final_X_test)\n",
    "    return n_metric(y_valid, preds_test)"
   ]
  },
  {
   "cell_type": "code",
   "execution_count": 19,
   "metadata": {},
   "outputs": [
    {
     "name": "stdout",
     "output_type": "stream",
     "text": [
      "accuracy:  {50: 0.4980769230769231, 100: 0.49788461538461537, 150: 0.49673076923076925, 200: 0.49538461538461537, 250: 0.49538461538461537, 300: 0.4973076923076923, 350: 0.4963461538461538, 400: 0.49653846153846154}\n"
     ]
    }
   ],
   "source": [
    "results_accuracy_test = {}\n",
    "for i in range(1, 9):\n",
    "    results_accuracy_test[50*i] = get_score_test(final_X_test, y_train, y_valid, 50*i, metrics.accuracy_score)\n",
    "print(\"accuracy: \", results_accuracy_test)"
   ]
  },
  {
   "cell_type": "code",
   "execution_count": 29,
   "metadata": {},
   "outputs": [
    {
     "name": "stdout",
     "output_type": "stream",
     "text": [
      "Confusion Matrix\n",
      "[[1122 1442]\n",
      " [1175 1461]]\n"
     ]
    }
   ],
   "source": [
    "results_matrix_test = {}\n",
    "\n",
    "results_matrix_test = get_score_test(final_X_test, y_train, y_valid, 150, confusion_matrix)\n",
    "print(\"Confusion Matrix\")\n",
    "print(results_matrix_test)"
   ]
  },
  {
   "cell_type": "code",
   "execution_count": 34,
   "metadata": {},
   "outputs": [
    {
     "name": "stdout",
     "output_type": "stream",
     "text": [
      "              precision    recall  f1-score   support\n",
      "\n",
      "           0       0.49      0.44      0.46      2564\n",
      "           1       0.50      0.55      0.53      2636\n",
      "\n",
      "    accuracy                           0.50      5200\n",
      "   macro avg       0.50      0.50      0.49      5200\n",
      "weighted avg       0.50      0.50      0.50      5200\n",
      "\n"
     ]
    }
   ],
   "source": [
    "results_testreport = get_score_test(final_X_test, y_train, y_valid, 150, metrics.classification_report)\n",
    "print(results_testreport)"
   ]
  },
  {
   "cell_type": "code",
   "execution_count": 20,
   "metadata": {},
   "outputs": [],
   "source": [
    "def score_cross_val_test(n_folds):\n",
    "    model = RandomForestClassifier(n_estimators=150, random_state=2)\n",
    "    cross = cross_val_score(model, final_X_test, y_valid, cv=n_folds, scoring=\"accuracy\").mean()\n",
    "    return cross"
   ]
  },
  {
   "cell_type": "code",
   "execution_count": 21,
   "metadata": {},
   "outputs": [
    {
     "name": "stdout",
     "output_type": "stream",
     "text": [
      "Cross Validation Score:  {2: 0.5, 3: 0.509224556552685, 4: 0.504423076923077, 5: 0.4974972263287965, 6: 0.5084596268664658, 7: 0.5099866946022316, 8: 0.5047884728721251}\n"
     ]
    }
   ],
   "source": [
    "results_cross_test = {}\n",
    "for i in range(2, 9):\n",
    "    results_cross_test[i] = score_cross_val_test(i)\n",
    "print(\"Cross Validation Score: \", results_cross_test)"
   ]
  },
  {
   "cell_type": "markdown",
   "metadata": {},
   "source": [
    "## Compare Training and Test Data\n",
    "Compare the accuracy based on training data versus test data"
   ]
  },
  {
   "cell_type": "code",
   "execution_count": 22,
   "metadata": {},
   "outputs": [
    {
     "data": {
      "text/plain": [
       "<matplotlib.legend.Legend at 0x1a22fd0>"
      ]
     },
     "execution_count": 22,
     "metadata": {},
     "output_type": "execute_result"
    },
    {
     "data": {
      "image/png": "[encoded data removed]",
      "text/plain": [
       "<Figure size 432x288 with 1 Axes>"
      ]
     },
     "metadata": {
      "needs_background": "light"
     },
     "output_type": "display_data"
    }
   ],
   "source": [
    "x_cords = list(results_accuracy.keys())\n",
    "y1_cords = list(results_accuracy.values())\n",
    "y2_cords = list(results_accuracy_test.values())\n",
    "plt.plot(x_cords, y1_cords)\n",
    "plt.plot(x_cords, y2_cords)\n",
    "plt.title('Model accuracy')\n",
    "plt.ylabel('Accuracy')\n",
    "plt.xlabel('Estimators')\n",
    "plt.legend(['Train', 'Test'], loc='upper left')"
   ]
  }
 ],
 "metadata": {
  "kernelspec": {
   "display_name": "Python 3",
   "language": "python",
   "name": "python3"
  },
  "language_info": {
   "codemirror_mode": {
    "name": "ipython",
    "version": 3
   },
   "file_extension": ".py",
   "mimetype": "text/x-python",
   "name": "python",
   "nbconvert_exporter": "python",
   "pygments_lexer": "ipython3",
   "version": "3.7.6"
  }
 },
 "nbformat": 4,
 "nbformat_minor": 4
}
